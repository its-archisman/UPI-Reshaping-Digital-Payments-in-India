{
  "cells": [
    {
      "cell_type": "code",
      "execution_count": null,
      "metadata": {
        "id": "5E7oyUReTGb8"
      },
      "outputs": [],
      "source": [
        "import pandas as pd\n",
        "import matplotlib.pyplot as plt\n",
        "import numpy as np\n",
        "from scipy.stats import linregress\n",
        "from sklearn.preprocessing import PolynomialFeatures\n",
        "from sklearn.linear_model import LinearRegression\n",
        "from sklearn.preprocessing import StandardScaler"
      ]
    },
    {
      "cell_type": "code",
      "execution_count": null,
      "metadata": {
        "id": "mwY5JForTIM6"
      },
      "outputs": [],
      "source": [
        "data = {\n",
        "    \"Year\": [\"2016-17\", \"2017-18\", \"2018-19\", \"2019-20\", \"2020-21\", \"2021-22\", \"2022-23\"],\n",
        "    \"Total Financial Txn Volume (Mn)\": [7138.40, 9857.60, 16806.25, 26493.23, 37512.73, 65299.45, 105412.75],\n",
        "    \"UPI Txn Volume (Mn)\": [17.86, 915.23, 5353.40, 12518.62, 22330.65, 39440.44, 81622.10],\n",
        "    \"Total Financial Txn Value (Bn)\": [96626.07, 113552.76, 136719.23, 160923.65, 165529.97, 236828.28, 321919.49],\n",
        "    \"UPI Txn Value (Bn)\": [69.47, 1098.32, 8769.70, 21317.30, 41036.54, 68294.38, 138691.68]\n",
        "}\n",
        "\n",
        "df = pd.DataFrame(data)\n",
        "df[\"% of UPI Volume to Total\"] = (df[\"UPI Txn Volume (Mn)\"] / df[\"Total Financial Txn Volume (Mn)\"]) * 100\n",
        "df[\"% of UPI Value to Total\"] = (df[\"UPI Txn Value (Bn)\"] / df[\"Total Financial Txn Value (Bn)\"]) * 100\n",
        "\n",
        "# print(df)"
      ]
    },
    {
      "cell_type": "code",
      "execution_count": null,
      "metadata": {
        "colab": {
          "base_uri": "https://localhost:8080/"
        },
        "id": "qB8JSUPyTjzu",
        "outputId": "c87b096b-c9a5-4e65-8fdb-29bfe48f2a54"
      },
      "outputs": [
        {
          "output_type": "stream",
          "name": "stdout",
          "text": [
            "Compound Annual Growth Rate for UPI Transaction Volume: 160.08%\n",
            "Compound Annual Growth Rate for UPI Transaction Value: 190.36%\n"
          ]
        }
      ],
      "source": [
        "def calculate_cagr(end_value, start_value, periods):\n",
        "    return (end_value/start_value) ** (1/periods) - 1\n",
        "\n",
        "# Calculate CAGR for UPI transaction volume and value\n",
        "volume_cagr = calculate_cagr(df[\"% of UPI Volume to Total\"].iloc[-1], df[\"% of UPI Volume to Total\"].iloc[0], len(df) - 1)\n",
        "value_cagr = calculate_cagr(df[\"% of UPI Value to Total\"].iloc[-1], df[\"% of UPI Value to Total\"].iloc[0], len(df) - 1)\n",
        "\n",
        "print(f\"Compound Annual Growth Rate for UPI Transaction Volume: {volume_cagr:.2%}\")\n",
        "print(f\"Compound Annual Growth Rate for UPI Transaction Value: {value_cagr:.2%}\")"
      ]
    },
    {
      "cell_type": "code",
      "execution_count": null,
      "metadata": {
        "id": "OrMD2_16VjZm"
      },
      "outputs": [],
      "source": [
        "# hypothetical data\n",
        "additional_data = {\n",
        "    \"Internet Penetration\": [17, 18, 20, 30, 43, 46, 52],\n",
        "    \"Smartphone Usage\": [23, 29, 35, 46, 54, 61, 66],\n",
        "    # \"GDP\": [2295, 2651, 2702, 2835, 2671, 3150, 3390],\n",
        "    \"Digital Literacy\": [20, 28, 33, 35, 38, 41, 52]\n",
        "}\n",
        "\n",
        "for key, value in additional_data.items():\n",
        "    df[key] = value\n"
      ]
    },
    {
      "cell_type": "markdown",
      "source": [
        "Correlation b/w various variables"
      ],
      "metadata": {
        "id": "o7P_2hH9xNtM"
      }
    },
    {
      "cell_type": "code",
      "execution_count": null,
      "metadata": {
        "colab": {
          "base_uri": "https://localhost:8080/"
        },
        "id": "8KHWK1vsVqj3",
        "outputId": "4b890487-4d60-465d-ca72-176c5128882e"
      },
      "outputs": [
        {
          "output_type": "stream",
          "name": "stdout",
          "text": [
            "                                 UPI Txn Volume (Mn)  UPI Txn Value (Bn)\n",
            "Total Financial Txn Volume (Mn)             0.994738            0.995402\n",
            "UPI Txn Volume (Mn)                         1.000000            0.999687\n",
            "Total Financial Txn Value (Bn)              0.985943            0.985468\n",
            "UPI Txn Value (Bn)                          0.999687            1.000000\n",
            "% of UPI Volume to Total                    0.837099            0.845318\n",
            "% of UPI Value to Total                     0.951747            0.958271\n",
            "Internet Penetration                        0.887245            0.897441\n",
            "Smartphone Usage                            0.870888            0.879256\n",
            "Digital Literacy                            0.917663            0.920279\n"
          ]
        }
      ],
      "source": [
        "# Calculate correlation matrix for only numeric columns\n",
        "numeric_columns = df.select_dtypes(include=[np.number])  # This automatically excludes non-numeric columns like year in this case\n",
        "correlation_matrix = numeric_columns.corr()\n",
        "\n",
        "print(correlation_matrix[[\"UPI Txn Volume (Mn)\", \"UPI Txn Value (Bn)\"]])"
      ]
    },
    {
      "cell_type": "markdown",
      "metadata": {
        "id": "OeEEfG-iUSXe"
      },
      "source": [
        "Data preprocessing"
      ]
    },
    {
      "cell_type": "code",
      "execution_count": null,
      "metadata": {
        "id": "sKf4D6KCJ4rf"
      },
      "outputs": [],
      "source": [
        "X_train = np.column_stack((\n",
        "    additional_data[\"Internet Penetration\"],\n",
        "    additional_data[\"Smartphone Usage\"],\n",
        "    # additional_data[\"GDP\"],\n",
        "    additional_data[\"Digital Literacy\"]\n",
        "))\n",
        "y1 = np.array([0.25, 9.28, 31.85, 47.25, 59.53, 60.39, 77.43])\n",
        "y2 = np.array([0.07, 0.97, 6.41, 13.25, 24.79, 28.83, 43.08])\n",
        "\n",
        "weights1 = correlation_matrix[\"UPI Txn Volume (Mn)\"][-4:].values * 10\n",
        "weights2 = correlation_matrix[\"UPI Txn Value (Bn)\"][-4:].values * 10"
      ]
    },
    {
      "cell_type": "code",
      "execution_count": null,
      "metadata": {
        "id": "jv6t_4c9kBuu"
      },
      "outputs": [],
      "source": [
        "import numpy as np\n",
        "\n",
        "def project_features(current_values, growth_rates, n_years):\n",
        "    projected_matrix = [list(current_values.values())]\n",
        "    for year in range(1, n_years):\n",
        "        current_values_dict = dict(zip(current_values.keys(), projected_matrix[-1]))\n",
        "        next_values = {feature: value * (1 + growth_rates[feature]) for feature, value in current_values_dict.items()}\n",
        "        projected_matrix.append(list(next_values.values()))\n",
        "    return np.array(projected_matrix)\n",
        "\n",
        "current_values = {\n",
        "    \"Internet Penetration\": additional_data[\"Internet Penetration\"][-1],\n",
        "    \"Smartphone Usage\": additional_data[\"Smartphone Usage\"][-1],\n",
        "    # \"GDP\": additional_data[\"GDP\"][-1],\n",
        "    \"Digital Literacy\": additional_data[\"Digital Literacy\"][-1]\n",
        "}\n",
        "growth_rates = {\n",
        "    \"Internet Penetration\": 0.087,  # From 14% in 2014 to over 52% in 2024, approximately 8.7% annual growth rate\n",
        "    \"Smartphone Usage\": 0.06,       # Expected to increase at a CAGR of 6% from 2021 to 2026\n",
        "    # \"GDP\": 0.079,                   # Real GDP is estimated to grow at an average of 7.9% between FY22 and FY24\n",
        "    \"Digital Literacy\": 0.034       # Assuming a linear growth from 15% in 2018 to 65% in 2023, approximately 3.4% annual growth rate\n",
        "}\n",
        "\n",
        "n_years = 10\n",
        "\n",
        "X_test = project_features(current_values, growth_rates, n_years)\n",
        "print(X_test)"
      ]
    },
    {
      "cell_type": "code",
      "source": [
        "X_combined = np.vstack((X_train, X_test))\n",
        "\n",
        "scaler = StandardScaler()\n",
        "X_combined_normalized = scaler.fit_transform(X_combined)\n",
        "\n",
        "split_index = X_train.shape[0]\n",
        "X_train_normalized = X_combined_normalized[:split_index, :]\n",
        "X_test_normalized = X_combined_normalized[split_index:, :]\n",
        "# X_train_normalized, X_test_normalized"
      ],
      "metadata": {
        "id": "gUq-wzbatwYM"
      },
      "execution_count": null,
      "outputs": []
    },
    {
      "cell_type": "markdown",
      "metadata": {
        "id": "RuGlLrtAJnKL"
      },
      "source": [
        "Prediction using Weighted Linear Regression\n",
        "\n"
      ]
    },
    {
      "cell_type": "markdown",
      "metadata": {
        "id": "vj27M-WYJwCo"
      },
      "source": [
        "1. UPI Txn Volume %age"
      ]
    },
    {
      "cell_type": "code",
      "execution_count": null,
      "metadata": {
        "colab": {
          "base_uri": "https://localhost:8080/"
        },
        "id": "t7tiYfCNHGo8",
        "outputId": "23cc8646-5f58-469a-c9f4-01defbe4570b"
      },
      "outputs": [
        {
          "output_type": "stream",
          "name": "stdout",
          "text": [
            "Training predictions yearwise from 2016-2023:  [-7.94919890e-03  1.52699925e+01  2.83309366e+01  4.44231223e+01\n",
            "  5.32223926e+01  6.65463804e+01  7.81951249e+01]\n",
            "Test predictions yearwise 2023-24 onwards:  [ 78.19512486  83.93743107  89.92106308  96.15279498 102.63918025\n",
            " 109.38648544 116.40061531 123.68702848 131.25064272 139.09572856]\n"
          ]
        }
      ],
      "source": [
        "model1 = LinearRegression()\n",
        "model1.fit(X_train_normalized, y1)\n",
        "print(\"Training predictions yearwise from 2016-2023: \", model1.predict(X_train_normalized))\n",
        "print(\"Test predictions yearwise 2023-24 onwards: \", model1.predict(X_test_normalized))"
      ]
    },
    {
      "cell_type": "markdown",
      "metadata": {
        "id": "o4LrNMqpJ05C"
      },
      "source": [
        "2. UPI Txn Value %age"
      ]
    },
    {
      "cell_type": "code",
      "execution_count": null,
      "metadata": {
        "colab": {
          "base_uri": "https://localhost:8080/"
        },
        "id": "jVB6AkSyNK4e",
        "outputId": "b12afa46-98bd-46a4-9e60-96940c6b565c"
      },
      "outputs": [
        {
          "output_type": "stream",
          "name": "stdout",
          "text": [
            "Training predictions yearwise from 2016-2023:  [-1.50877052  2.89985628  5.90004219 12.93605775 26.53384269 28.358775\n",
            " 42.28019661]\n",
            "Test predictions yearwise 2023-24 onwards:  [ 42.28019661  46.88707192  51.8814905   57.29852602  63.17645819\n",
            "  69.55706344  76.48593173  84.0128117   92.19198677 101.0826849 ]\n"
          ]
        }
      ],
      "source": [
        "model2 = LinearRegression()\n",
        "model1.fit(X_train_normalized, y2)\n",
        "print(\"Training predictions yearwise from 2016-2023: \", model1.predict(X_train_normalized))\n",
        "print(\"Test predictions yearwise 2023-24 onwards: \", model1.predict(X_test_normalized))"
      ]
    },
    {
      "cell_type": "markdown",
      "source": [
        "As per our hypothesis, UPI captures the digital market in the following way:\n",
        "\n",
        "- By volume, UPI transactions will cross 85% in 1 year (by the end of FY 2024-25)\n",
        "- By value, UPI transactions will cross 65% in 4 years (by the end of FY 2027-28)\n",
        "\n",
        "\n"
      ],
      "metadata": {
        "id": "0YnrE626zIYP"
      }
    }
  ],
  "metadata": {
    "colab": {
      "provenance": []
    },
    "kernelspec": {
      "display_name": "Python 3",
      "name": "python3"
    },
    "language_info": {
      "name": "python"
    }
  },
  "nbformat": 4,
  "nbformat_minor": 0
}